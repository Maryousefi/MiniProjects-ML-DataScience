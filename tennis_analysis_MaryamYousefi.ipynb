{
 "cells": [
  {
   "cell_type": "code",
   "execution_count": null,
   "metadata": {},
   "outputs": [],
   "source": [
    "import os\n",
    "import zipfile\n",
    "import glob\n",
    "import pandas as pd\n",
    "import numpy as np\n",
    "\n",
    "# Display full DataFrame content (optional)\n",
    "pd.set_option('display.max_rows', 100)\n",
    "pd.set_option('display.max_columns', 100)\n",
    "\n",
    "# Paths\n",
    "zip_file_path = '/drive/tennis_data.zip'\n",
    "extract_path = 'extracted_data'\n",
    "parquet_dir = 'parquet_data'\n",
    "\n",
    "# Extract zip \n",
    "if not os.path.exists(zip_file_path):\n",
    "    print(f\"The file {zip_file_path} does not exist.\")\n",
    "else:\n",
    "    if not os.path.exists(extract_path):\n",
    "        os.makedirs(extract_path)\n",
    "    with zipfile.ZipFile(zip_file_path, 'r') as zip_ref:\n",
    "        zip_ref.extractall(extract_path)\n",
    "        print(f\"Files extracted to {extract_path}\")\n",
    "\n",
    "# Convert CSV to Parquet\n",
    "if not os.path.exists(parquet_dir):\n",
    "    os.makedirs(parquet_dir)\n",
    "\n",
    "for filename in os.listdir(extract_path):\n",
    "    if filename.endswith('.csv'):\n",
    "        csv_path = os.path.join(extract_path, filename)\n",
    "        df = pd.read_csv(csv_path)\n",
    "        parquet_path = os.path.join(parquet_dir, filename.replace('.csv', '.parquet'))\n",
    "        df.to_parquet(parquet_path)\n"
   ]
  },
  {
   "cell_type": "code",
   "execution_count": null,
   "metadata": {},
   "outputs": [],
   "source": [
    "def load_parquet_files(base_path, subfolder):\n",
    "    files = []\n",
    "    for folder in ['20240201', '20240202', '20240203']:\n",
    "        path_pattern = os.path.join(base_path, 'data', folder, 'data', 'raw', subfolder, '*.parquet')\n",
    "        files.extend(glob.glob(path_pattern))\n",
    "\n",
    "    if not files:\n",
    "        print(f\"No files found for subfolder: {subfolder}\")\n",
    "        return None\n",
    "\n",
    "    dfs = []\n",
    "    for file in files:\n",
    "        try:\n",
    "            df = pd.read_parquet(file)\n",
    "            dfs.append(df)\n",
    "        except Exception as e:\n",
    "            print(f\"Error reading {file}: {e}\")\n",
    "\n",
    "    return pd.concat(dfs, ignore_index=True) if dfs else None\n"
   ]
  },
  {
   "cell_type": "code",
   "execution_count": null,
   "metadata": {},
   "outputs": [],
   "source": [
    "def load_all_datasets(base_path):\n",
    "    print(\"Loading tennis datasets...\")\n",
    "\n",
    "    matches_df = load_parquet_files(base_path, 'raw_match_parquet')\n",
    "    stats_df = load_parquet_files(base_path, 'raw_statistics_parquet')\n",
    "    power_df = load_parquet_files(base_path, 'raw_tennis_power_parquet')\n",
    "    votes_df = load_parquet_files(base_path, 'raw_votes_parquet')\n",
    "    odds_df = load_parquet_files(base_path, 'raw_odds_parquet')\n",
    "    pbp_df = load_parquet_files(base_path, 'raw_point_by_point_parquet')\n",
    "\n",
    "    required_dfs = {\n",
    "        \"matches_df\": matches_df,\n",
    "        \"stats_df\": stats_df,\n",
    "        \"power_df\": power_df\n",
    "    }\n",
    "    for name, df in required_dfs.items():\n",
    "        if df is None or df.empty:\n",
    "            raise ValueError(f\"Dataset '{name}' failed to load or is empty.\")\n",
    "\n",
    "    print(\"All datasets loaded successfully.\")\n",
    "    return matches_df, stats_df, power_df, votes_df, odds_df, pbp_df\n",
    "\n",
    "# Adjust base path if needed\n",
    "base_path = os.path.join(os.path.expanduser('~'), 'Downloads', 'tennis_data')\n",
    "\n",
    "matches_df, stats_df, power_df, votes_df, odds_df, pbp_df = load_all_datasets(base_path)\n"
   ]
  },
  {
   "cell_type": "markdown",
   "id": "24803043",
   "metadata": {},
   "source": [
    "## Tennis Data Analysis: Questions 1–17"
   ]
  },
  {
   "cell_type": "markdown",
   "id": "6e8208a0",
   "metadata": {},
   "source": [
    "### 1. How many tennis players are included in the dataset?"
   ]
  },
  {
   "cell_type": "code",
   "execution_count": null,
   "id": "650aee85",
   "metadata": {},
   "outputs": [],
   "source": [
    "\n",
    "# Combine all unique player names from match dataset\n",
    "players = pd.concat([matches_df['player1'], matches_df['player2']]).unique()\n",
    "print(f\"Total unique players: {len(players)}\")\n"
   ]
  },
  {
   "cell_type": "markdown",
   "id": "b22ec160",
   "metadata": {},
   "source": [
    "### 2. What is the average height of the players?"
   ]
  },
  {
   "cell_type": "code",
   "execution_count": null,
   "id": "c2a8cd7a",
   "metadata": {},
   "outputs": [],
   "source": [
    "\n",
    "# Check height in power_df\n",
    "average_height = power_df['player_height'].dropna().mean()\n",
    "print(f\"Average player height: {average_height:.2f} cm\")\n"
   ]
  },
  {
   "cell_type": "code",
   "execution_count": null,
   "metadata": {},
   "outputs": [],
   "source": [
    "# Q1: Total number of matches\n",
    "def q1(matches_df):\n",
    "    return len(matches_df)\n",
    "\n",
    "# Q2: Number of unique players\n",
    "def q2(matches_df):\n",
    "    return pd.unique(matches_df[['winner_id', 'loser_id']].values.ravel()).size\n",
    "\n",
    "# Q3: Top 5 players with most wins\n",
    "def q3(matches_df):\n",
    "    return matches_df['winner_name'].value_counts().head(5)\n",
    "\n",
    "# Q4: Top 5 players with most losses\n",
    "def q4(matches_df):\n",
    "    return matches_df['loser_name'].value_counts().head(5)\n",
    "\n",
    "# Q5: Average match duration\n",
    "def q5(matches_df):\n",
    "    if 'match_duration' in matches_df.columns:\n",
    "        return matches_df['match_duration'].mean()\n",
    "    else:\n",
    "        return \"Column 'match_duration' not found in matches_df.\"\n",
    "\n",
    "# Q6: Surface distribution of matches\n",
    "def q6(matches_df):\n",
    "    return matches_df['surface'].value_counts()\n",
    "\n",
    "# Q7: Distribution of match outcomes by tournament level\n",
    "def q7(matches_df):\n",
    "    return matches_df['tourney_level'].value_counts()\n",
    "\n",
    "# Q8: Player with highest average aces per match\n",
    "def q8(stats_df):\n",
    "    if 'player_id' in stats_df.columns and 'aces' in stats_df.columns:\n",
    "        aces_per_player = stats_df.groupby('player_id')['aces'].mean()\n",
    "        return aces_per_player.idxmax(), aces_per_player.max()\n",
    "    else:\n",
    "        return \"Required columns not found in stats_df.\"\n",
    "\n",
    "# Q9: Player with highest average double faults per match\n",
    "def q9(stats_df):\n",
    "    if 'player_id' in stats_df.columns and 'double_faults' in stats_df.columns:\n",
    "        df_per_player = stats_df.groupby('player_id')['double_faults'].mean()\n",
    "        return df_per_player.idxmax(), df_per_player.max()\n",
    "    else:\n",
    "        return \"Required columns not found in stats_df.\"\n",
    "\n",
    "# Q10: Correlation between first serve percentage and match win\n",
    "def q10(stats_df):\n",
    "    if {'first_serve_pct', 'match_winner'}.issubset(stats_df.columns):\n",
    "        return stats_df[['first_serve_pct', 'match_winner']].corr()\n",
    "    else:\n",
    "        return \"Required columns not found in stats_df.\"\n",
    "\n",
    "# Q11: Average number of break points saved per match\n",
    "def q11(stats_df):\n",
    "    if 'break_points_saved' in stats_df.columns:\n",
    "        return stats_df['break_points_saved'].mean()\n",
    "    else:\n",
    "        return \"Column 'break_points_saved' not found in stats_df.\"\n",
    "\n",
    "# Q12: Distribution of matches by tournament\n",
    "def q12(matches_df):\n",
    "    return matches_df['tourney_name'].value_counts()\n",
    "\n",
    "# Q13: Player with highest win percentage\n",
    "def q13(matches_df):\n",
    "    wins = matches_df['winner_name'].value_counts()\n",
    "    losses = matches_df['loser_name'].value_counts()\n",
    "    total_matches = wins.add(losses, fill_value=0)\n",
    "    win_percentage = (wins / total_matches).fillna(0)\n",
    "    return win_percentage.idxmax(), win_percentage.max()\n",
    "\n",
    "# Q14: Average number of sets per match\n",
    "def q14(matches_df):\n",
    "    if 'score' in matches_df.columns:\n",
    "        return matches_df['score'].apply(lambda x: len(str(x).split())).mean()\n",
    "    else:\n",
    "        return \"Column 'score' not found in matches_df.\"\n",
    "\n",
    "# Q15: Most common match score\n",
    "def q15(matches_df):\n",
    "    if 'score' in matches_df.columns:\n",
    "        return matches_df['score'].value_counts().idxmax()\n",
    "    else:\n",
    "        return \"Column 'score' not found in matches_df.\"\n",
    "\n",
    "# Q16: Player with most matches played\n",
    "def q16(matches_df):\n",
    "    players = pd.concat([matches_df['winner_name'], matches_df['loser_name']])\n",
    "    return players.value_counts().idxmax(), players.value_counts().max()\n",
    "\n",
    "# Q17: Year with most matches played\n",
    "def q17(matches_df):\n",
    "    if 'tourney_date' in matches_df.columns:\n",
    "        matches_df['year'] = pd.to_datetime(matches_df['tourney_date'], errors='coerce').dt.year\n",
    "        return matches_df['year'].value_counts().idxmax()\n",
    "    else:\n",
    "        return \"Column 'tourney_date' not found in matches_df.\"\n"
   ]
  },
  {
   "cell_type": "code",
   "execution_count": null,
   "metadata": {},
   "outputs": [],
   "source": [
    "print(\"Q1: Total number of matches:\", q1(matches_df))\n",
    "print(\"Q2: Number of unique players:\", q2(matches_df))\n",
    "print(\"Q3: Top 5 players with most wins:\\n\", q3(matches_df))\n",
    "print(\"Q4: Top 5 players with most losses:\\n\", q4(matches_df))\n",
    "print(\"Q5: Average match duration:\", q5(matches_df))\n",
    "print(\"Q6: Surface distribution of matches:\\n\", q6(matches_df))\n",
    "print(\"Q7: Distribution of match outcomes by tournament level:\\n\", q7(matches_df))\n",
    "print(\"Q8: Player with highest average aces per match:\", q8(stats_df))\n",
    "print(\"Q9: Player with highest average double faults per match:\", q9(stats_df))\n",
    "print(\"Q10: Correlation between first serve percentage and match win:\\n\", q10(stats_df))\n",
    "print(\"Q11: Average number of break points saved per match:\", q11(stats_df))\n",
    "print(\"Q12: Distribution of matches by tournament:\\n\", q12(matches_df))\n",
    "print(\"Q13: Player with highest win percentage:\", q13(matches_df))\n",
    "print(\"Q14: Average number of sets per match:\", q14(matches_df))\n",
    "print(\"Q15: Most common match score:\", q15(matches_df))\n",
    "print(\"Q16: Player with most matches played:\", q16(matches_df))\n",
    "print(\"Q17: Year with most matches played:\", q17(matches_df))\n"
   ]
  },
  {
   "cell_type": "markdown",
   "id": "856126d2",
   "metadata": {},
   "source": [
    "### 3. Which player has the highest number of wins?"
   ]
  },
  {
   "cell_type": "code",
   "execution_count": null,
   "id": "a67928f4",
   "metadata": {},
   "outputs": [],
   "source": [
    "\n",
    "# Count wins by player2 losing\n",
    "wins = matches_df['winner_name'].value_counts()\n",
    "top_winner = wins.idxmax()\n",
    "top_wins = wins.max()\n",
    "print(f\"Top player with most wins: {top_winner} ({top_wins} wins)\")\n"
   ]
  },
  {
   "cell_type": "markdown",
   "id": "1bae45ab",
   "metadata": {},
   "source": [
    "### 4. What is the longest match recorded in terms of duration?"
   ]
  },
  {
   "cell_type": "code",
   "execution_count": null,
   "id": "532909a8",
   "metadata": {},
   "outputs": [],
   "source": [
    "\n",
    "if 'match_duration' in matches_df.columns:\n",
    "    longest_match = matches_df.loc[matches_df['match_duration'].idxmax()]\n",
    "    print(f\"Longest match: {longest_match['match_duration']} minutes\n",
    "Match ID: {longest_match['match_id']}\")\n",
    "else:\n",
    "    print(\"match_duration column not found in matches_df.\")\n"
   ]
  },
  {
   "cell_type": "markdown",
   "id": "a6b9e53f",
   "metadata": {},
   "source": [
    "### 5. How many sets are typically played in a tennis match?"
   ]
  },
  {
   "cell_type": "code",
   "execution_count": null,
   "id": "581e71bf",
   "metadata": {},
   "outputs": [],
   "source": [
    "\n",
    "if 'num_sets' in matches_df.columns:\n",
    "    print(f\"Average number of sets: {matches_df['num_sets'].mean():.2f}\")\n",
    "else:\n",
    "    print(\"num_sets column not available.\")\n"
   ]
  },
  {
   "cell_type": "markdown",
   "id": "337f2abf",
   "metadata": {},
   "source": [
    "### 6. Which country has produced the most successful tennis players?"
   ]
  },
  {
   "cell_type": "code",
   "execution_count": null,
   "id": "84003d5e",
   "metadata": {},
   "outputs": [],
   "source": [
    "\n",
    "if 'player_country' in power_df.columns:\n",
    "    top_country = power_df['player_country'].value_counts().idxmax()\n",
    "    print(f\"Country with most successful players: {top_country}\")\n",
    "else:\n",
    "    print(\"player_country column not found.\")\n"
   ]
  },
  {
   "cell_type": "markdown",
   "id": "d814a263",
   "metadata": {},
   "source": [
    "### 7. What is the average number of aces per match?"
   ]
  },
  {
   "cell_type": "code",
   "execution_count": null,
   "id": "e430743c",
   "metadata": {},
   "outputs": [],
   "source": [
    "\n",
    "if 'aces' in stats_df.columns:\n",
    "    avg_aces = stats_df['aces'].mean()\n",
    "    print(f\"Average number of aces per match: {avg_aces:.2f}\")\n",
    "else:\n",
    "    print(\"aces column not found.\")\n"
   ]
  },
  {
   "cell_type": "markdown",
   "id": "f57f5960",
   "metadata": {},
   "source": [
    "### 8. Is there a difference in the number of double faults based on gender?"
   ]
  },
  {
   "cell_type": "code",
   "execution_count": null,
   "id": "d96f0aed",
   "metadata": {},
   "outputs": [],
   "source": [
    "\n",
    "if 'double_faults' in stats_df.columns and 'gender' in stats_df.columns:\n",
    "    print(stats_df.groupby('gender')['double_faults'].mean())\n",
    "else:\n",
    "    print(\"Required columns not available.\")\n"
   ]
  },
  {
   "cell_type": "markdown",
   "id": "c14659e5",
   "metadata": {},
   "source": [
    "### 9. Which player has won the most tournaments in a single month?"
   ]
  },
  {
   "cell_type": "code",
   "execution_count": null,
   "id": "ad437e69",
   "metadata": {},
   "outputs": [],
   "source": [
    "\n",
    "matches_df['tourney_month'] = pd.to_datetime(matches_df['tourney_date'], errors='coerce').dt.month\n",
    "monthly_wins = matches_df.groupby(['winner_name', 'tourney_month']).size().reset_index(name='wins')\n",
    "top_entry = monthly_wins.loc[monthly_wins['wins'].idxmax()]\n",
    "print(f\"Player with most wins in a single month: {top_entry['winner_name']} ({top_entry['wins']} wins in month {int(top_entry['tourney_month'])})\")\n"
   ]
  },
  {
   "cell_type": "markdown",
   "id": "737a8e85",
   "metadata": {},
   "source": [
    "### 10. Is there a correlation between a player's height and their ranking?"
   ]
  },
  {
   "cell_type": "code",
   "execution_count": null,
   "id": "23ae90e6",
   "metadata": {},
   "outputs": [],
   "source": [
    "\n",
    "if 'player_height' in power_df.columns and 'player_rank' in power_df.columns:\n",
    "    corr = power_df[['player_height', 'player_rank']].dropna().corr().iloc[0, 1]\n",
    "    print(f\"Correlation between height and ranking: {corr:.2f}\")\n",
    "else:\n",
    "    print(\"Required columns not found.\")\n"
   ]
  },
  {
   "cell_type": "markdown",
   "id": "1c0ac3c1",
   "metadata": {},
   "source": [
    "### 11. What is the average duration of matches?"
   ]
  },
  {
   "cell_type": "code",
   "execution_count": null,
   "id": "02d18336",
   "metadata": {},
   "outputs": [],
   "source": [
    "\n",
    "if 'match_duration' in matches_df.columns:\n",
    "    print(f\"Average match duration: {matches_df['match_duration'].mean():.2f} minutes\")\n",
    "else:\n",
    "    print(\"match_duration column not found.\")\n"
   ]
  },
  {
   "cell_type": "markdown",
   "id": "f471bdb8",
   "metadata": {},
   "source": [
    "### 12. What is the average number of games per set in men's vs. women's matches?"
   ]
  },
  {
   "cell_type": "code",
   "execution_count": null,
   "id": "392aee95",
   "metadata": {},
   "outputs": [],
   "source": [
    "\n",
    "if 'winner_sets_won' in stats_df.columns and 'loser_sets_won' in stats_df.columns and 'gender' in stats_df.columns:\n",
    "    stats_df['total_sets'] = stats_df['winner_sets_won'] + stats_df['loser_sets_won']\n",
    "    stats_df['games_per_set'] = stats_df['total_games'] / stats_df['total_sets']\n",
    "    print(stats_df.groupby('gender')['games_per_set'].mean())\n",
    "else:\n",
    "    print(\"Required columns not available.\")\n"
   ]
  },
  {
   "cell_type": "markdown",
   "id": "12fb38a8",
   "metadata": {},
   "source": [
    "### 13. What is the distribution of left-handed versus right-handed players?"
   ]
  },
  {
   "cell_type": "code",
   "execution_count": null,
   "id": "c91fe900",
   "metadata": {},
   "outputs": [],
   "source": [
    "\n",
    "if 'hand' in power_df.columns:\n",
    "    print(power_df['hand'].value_counts())\n",
    "else:\n",
    "    print(\"hand column not found.\")\n"
   ]
  },
  {
   "cell_type": "markdown",
   "id": "81a4203e",
   "metadata": {},
   "source": [
    "### 14. What is the most common type of surface used in tournaments?"
   ]
  },
  {
   "cell_type": "code",
   "execution_count": null,
   "id": "4dcef9bb",
   "metadata": {},
   "outputs": [],
   "source": [
    "\n",
    "if 'surface' in matches_df.columns:\n",
    "    print(matches_df['surface'].value_counts().idxmax())\n",
    "else:\n",
    "    print(\"surface column not found.\")\n"
   ]
  },
  {
   "cell_type": "markdown",
   "id": "7a64989e",
   "metadata": {},
   "source": [
    "### 15. How many distinct countries are represented in the dataset?"
   ]
  },
  {
   "cell_type": "code",
   "execution_count": null,
   "id": "b7e0400c",
   "metadata": {},
   "outputs": [],
   "source": [
    "\n",
    "if 'player_country' in power_df.columns:\n",
    "    print(f\"Distinct countries: {power_df['player_country'].nunique()}\")\n",
    "else:\n",
    "    print(\"player_country column not found.\")\n"
   ]
  },
  {
   "cell_type": "markdown",
   "id": "67c04b89",
   "metadata": {},
   "source": [
    "### 16. Which player has the highest winning percentage against top 10 ranked opponents?"
   ]
  },
  {
   "cell_type": "code",
   "execution_count": null,
   "id": "6caf55f5",
   "metadata": {},
   "outputs": [],
   "source": [
    "\n",
    "# Simplified assumption: top 10 opponent defined via opponent_rank column in stats_df\n",
    "if 'opponent_rank' in stats_df.columns and 'winner_name' in stats_df.columns:\n",
    "    top_10_matches = stats_df[stats_df['opponent_rank'] <= 10]\n",
    "    win_pct = top_10_matches.groupby('winner_name').size() / top_10_matches['opponent_name'].value_counts()\n",
    "    win_pct = win_pct.dropna().sort_values(ascending=False)\n",
    "    print(win_pct.head(1))\n",
    "else:\n",
    "    print(\"Required columns not found.\")\n"
   ]
  },
  {
   "cell_type": "markdown",
   "id": "c56b76fb",
   "metadata": {},
   "source": [
    "### 17. What is the average number of breaks of serve per match?"
   ]
  },
  {
   "cell_type": "code",
   "execution_count": null,
   "id": "875208bd",
   "metadata": {},
   "outputs": [],
   "source": [
    "\n",
    "if 'break_points_converted' in stats_df.columns:\n",
    "    print(f\"Average breaks per match: {stats_df['break_points_converted'].mean():.2f}\")\n",
    "else:\n",
    "    print(\"break_points_converted column not found.\")\n"
   ]
  }
 ],
 "metadata": {
  "kernelspec": {
   "display_name": "Python 3",
   "language": "python",
   "name": "python3"
  },
  "language_info": {
   "name": "python",
   "version": "3.13.2"
  }
 },
 "nbformat": 4,
 "nbformat_minor": 4
}
